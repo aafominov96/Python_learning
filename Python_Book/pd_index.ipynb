{
 "cells": [
  {
   "cell_type": "code",
   "execution_count": 25,
   "metadata": {},
   "outputs": [],
   "source": [
    "import pandas as pd\n",
    "import numpy as np"
   ]
  },
  {
   "cell_type": "code",
   "execution_count": 22,
   "metadata": {},
   "outputs": [
    {
     "name": "stdout",
     "output_type": "stream",
     "text": [
      "-3    0.770303\n",
      "-2    0.397057\n",
      "-1    0.319561\n",
      "0     0.527126\n",
      "1     0.570809\n",
      "dtype: float64\n",
      "0    0.527126\n",
      "1    0.570809\n",
      "dtype: float64\n",
      "-3    0.770303\n",
      "-2    0.397057\n",
      "dtype: float64\n"
     ]
    }
   ],
   "source": [
    "i = range(5)\n",
    "ind = pd.Index(i) - 3\n",
    "data_0 = pd.Series(np.random.random(ind.size), index = ind)\n",
    "print(data_0)\n",
    "print(data_0.loc[0:2]) #явная индексация\n",
    "print(data_0.iloc[0:2]) #неявная индексация"
   ]
  },
  {
   "cell_type": "code",
   "execution_count": 30,
   "metadata": {},
   "outputs": [],
   "source": [
    "population_dict = {'Moscow': 12197596,\n",
    "                  'St.Petersburg': 5191690,\n",
    "                  'Novosibirsk': 1567087,\n",
    "                  'Ekaterinburg': 1428042,\n",
    "                  'Nizhnii Novgorod': 1267760}\n",
    "population = pd.Series(population_dict)\n",
    "area_dict = {'Moscow': 2561,\n",
    "            'St.Petersburg': 1439,\n",
    "            'Novosibirsk': 502,\n",
    "            'Ekaterinburg': 468,\n",
    "            'Nizhnii Novgorod': 466}\n",
    "area = pd.Series(area_dict)"
   ]
  },
  {
   "cell_type": "code",
   "execution_count": 38,
   "metadata": {},
   "outputs": [
    {
     "name": "stdout",
     "output_type": "stream",
     "text": [
      "                  population  area      density\n",
      "Moscow              12197596  2561  4762.825459\n",
      "St.Petersburg        5191690  1439  3607.845726\n",
      "Novosibirsk          1567087   502  3121.687251\n",
      "Ekaterinburg         1428042   468  3051.371795\n",
      "Nizhnii Novgorod     1267760   466  2720.515021\n"
     ]
    }
   ],
   "source": [
    "#как словарь\n",
    "stat_cities = pd.DataFrame({'population': population, 'area': area})\n",
    "stat_cities['density'] = stat_cities['population'] / stat_cities['area']\n",
    "print(stat_cities)"
   ]
  },
  {
   "cell_type": "code",
   "execution_count": 48,
   "metadata": {},
   "outputs": [
    {
     "name": "stdout",
     "output_type": "stream",
     "text": [
      "[[1.21975960e+07 2.56100000e+03 4.76282546e+03]\n",
      " [5.19169000e+06 1.43900000e+03 3.60784573e+03]\n",
      " [1.56708700e+06 5.02000000e+02 3.12168725e+03]\n",
      " [1.42804200e+06 4.68000000e+02 3.05137179e+03]\n",
      " [1.26776000e+06 4.66000000e+02 2.72051502e+03]]\n",
      "                  Moscow  St.Petersburg   Novosibirsk  Ekaterinburg  \\\n",
      "population  1.219760e+07   5.191690e+06  1.567087e+06  1.428042e+06   \n",
      "area        2.561000e+03   1.439000e+03  5.020000e+02  4.680000e+02   \n",
      "density     4.762825e+03   3.607846e+03  3.121687e+03  3.051372e+03   \n",
      "\n",
      "            Nizhnii Novgorod  \n",
      "population      1.267760e+06  \n",
      "area            4.660000e+02  \n",
      "density         2.720515e+03  \n",
      "[1.21975960e+07 2.56100000e+03 4.76282546e+03]\n",
      "               population  area\n",
      "Moscow           12197596  2561\n",
      "St.Petersburg     5191690  1439\n",
      "Novosibirsk       1567087   502\n",
      "             population  area\n",
      "Moscow         12197596  2561\n",
      "Novosibirsk     1567087   502\n",
      "               population  area\n",
      "Moscow           12197596  2561\n",
      "St.Petersburg     5191690  1439\n",
      "Novosibirsk       1567087   502\n"
     ]
    }
   ],
   "source": [
    "#как массив\n",
    "print(stat_cities.values)\n",
    "print(stat_cities.T)\n",
    "print(stat_cities.values[0])\n",
    "print(stat_cities.loc[:'Novosibirsk', :'area'])\n",
    "print(stat_cities.iloc[0:4:2, :2])\n",
    "#print(stat_cities.ix[0:4:2, :'area']) #устаревший метод\n",
    "print(stat_cities.loc[stat_cities.density > 3100, ['population', 'area']])"
   ]
  },
  {
   "cell_type": "code",
   "execution_count": null,
   "metadata": {},
   "outputs": [],
   "source": []
  }
 ],
 "metadata": {
  "kernelspec": {
   "display_name": "Python 3",
   "language": "python",
   "name": "python3"
  },
  "language_info": {
   "codemirror_mode": {
    "name": "ipython",
    "version": 3
   },
   "file_extension": ".py",
   "mimetype": "text/x-python",
   "name": "python",
   "nbconvert_exporter": "python",
   "pygments_lexer": "ipython3",
   "version": "3.7.3"
  }
 },
 "nbformat": 4,
 "nbformat_minor": 2
}
