{
 "cells": [
  {
   "cell_type": "code",
   "execution_count": 1,
   "metadata": {},
   "outputs": [],
   "source": [
    "import numpy as np\n",
    "import random as r"
   ]
  },
  {
   "cell_type": "code",
   "execution_count": 24,
   "metadata": {},
   "outputs": [
    {
     "name": "stdout",
     "output_type": "stream",
     "text": [
      "Исходный массив:  [5 0 3 3 7 9 3 5 2 4]\n",
      "Индексы отсортированных элементов:  [1 8 2 3 6 9 0 7 4 5]\n",
      "Отсортированный массив:  [0 2 3 3 3 4 5 5 7 9]\n"
     ]
    }
   ],
   "source": [
    "# Введение в сортировку\n",
    "np.random.seed(0)\n",
    "x = np.random.randint(0,10,10)\n",
    "x_copy = x.copy()\n",
    "print('Исходный массив: ', x)\n",
    "print('Индексы отсортированных элементов: ', np.argsort(x_copy))\n",
    "x.sort()\n",
    "print('Отсортированный массив: ', x)"
   ]
  },
  {
   "cell_type": "code",
   "execution_count": 27,
   "metadata": {},
   "outputs": [
    {
     "name": "stdout",
     "output_type": "stream",
     "text": [
      "Исходная матрица: \n",
      " [[9 9 7 3 2 3 9 7 7 5]\n",
      " [1 2 2 8 1 5 8 4 0 2]\n",
      " [5 5 0 8 1 1 0 3 8 8]\n",
      " [4 4 0 9 3 7 3 2 1 1]\n",
      " [2 1 4 2 5 5 5 2 5 7]\n",
      " [7 6 1 6 7 2 3 1 9 5]\n",
      " [9 9 2 0 9 1 9 0 6 0]\n",
      " [4 8 4 3 3 8 8 7 0 3]\n",
      " [8 7 7 1 8 4 7 0 4 9]\n",
      " [0 6 4 2 4 6 3 3 7 8]]\n",
      "Отсортированы первые два столбца: \n",
      " [[0 1 7 3 2 3 9 7 7 5]\n",
      " [1 2 2 8 1 5 8 4 0 2]\n",
      " [2 4 0 8 1 1 0 3 8 8]\n",
      " [4 5 0 9 3 7 3 2 1 1]\n",
      " [4 6 4 2 5 5 5 2 5 7]\n",
      " [5 6 1 6 7 2 3 1 9 5]\n",
      " [7 7 2 0 9 1 9 0 6 0]\n",
      " [8 8 4 3 3 8 8 7 0 3]\n",
      " [9 9 7 1 8 4 7 0 4 9]\n",
      " [9 9 4 2 4 6 3 3 7 8]]\n",
      "В матрице отсортированы столбцы: \n",
      " [[0 1 0 0 1 1 0 0 0 0]\n",
      " [1 2 0 1 1 1 3 0 0 1]\n",
      " [2 4 1 2 2 2 3 1 1 2]\n",
      " [4 5 2 2 3 3 3 2 4 3]\n",
      " [4 6 2 3 3 4 5 2 5 5]\n",
      " [5 6 4 3 4 5 7 3 6 5]\n",
      " [7 7 4 6 5 5 8 3 7 7]\n",
      " [8 8 4 8 7 6 8 4 7 8]\n",
      " [9 9 7 8 8 7 9 7 8 8]\n",
      " [9 9 7 9 9 8 9 7 9 9]]\n"
     ]
    }
   ],
   "source": [
    "# Сортировка по строкам и столбцам\n",
    "y = np.random.randint(0, 10, (10,10))\n",
    "y_views = y[:, 0:2:1]\n",
    "print('Исходная матрица: \\n', y)\n",
    "y_views.sort(axis = 0)\n",
    "print('Отсортированы первые два столбца: \\n', y)\n",
    "y.sort(axis = 0)\n",
    "print('В матрице отсортированы столбцы: \\n', y)"
   ]
  },
  {
   "cell_type": "code",
   "execution_count": 32,
   "metadata": {},
   "outputs": [
    {
     "name": "stdout",
     "output_type": "stream",
     "text": [
      "Исходный массив: \n",
      " [3 6 1 7 4 9 2 0 8 2]\n",
      "Найдены 5 минимальных элементов (они стоят вначале): \n",
      " [2 2 1 0 3 4 6 7 8 9]\n"
     ]
    }
   ],
   "source": [
    "# Частичная сортировка\n",
    "z = np.random.randint(0, 10, 10)\n",
    "print('Исходный массив: \\n', z)\n",
    "print('Найдены 5 минимальных элементов (они стоят вначале): \\n', np.partition(z, 5))"
   ]
  },
  {
   "cell_type": "code",
   "execution_count": 2,
   "metadata": {},
   "outputs": [
    {
     "data": {
      "image/png": "[encoded data removed]",
      "text/plain": [
       "<Figure size 432x288 with 1 Axes>"
      ]
     },
     "metadata": {},
     "output_type": "display_data"
    }
   ],
   "source": [
    "# Пример: K ближайших соседей\n",
    "X = np.random.randint(0,10,(100,2))\n",
    "%matplotlib inline\n",
    "import matplotlib.pyplot as plt\n",
    "import seaborn; seaborn.set()\n",
    "plt.scatter(X[:,0], X[:,1], s=100);\n",
    "a1 = X[:,np.newaxis,:]\n",
    "a2 = X[np.newaxis,:,:]\n",
    "diff = a1 - a2 #разность координат для каждой пары\n",
    "diff = diff ** 2\n",
    "dist = diff.sum(-1)\n",
    "\n",
    "k = 2\n",
    "nearest = np.argpartition(dist, k + 1, axis=1)\n",
    "for i in range(X.shape[0]):\n",
    "    for j in nearest[i, :k+1]:\n",
    "        plt.plot(*zip(X[j,:], X[i,:]), color='black')\n"
   ]
  },
  {
   "cell_type": "code",
   "execution_count": null,
   "metadata": {},
   "outputs": [],
   "source": []
  }
 ],
 "metadata": {
  "kernelspec": {
   "display_name": "Python 3",
   "language": "python",
   "name": "python3"
  },
  "language_info": {
   "codemirror_mode": {
    "name": "ipython",
    "version": 3
   },
   "file_extension": ".py",
   "mimetype": "text/x-python",
   "name": "python",
   "nbconvert_exporter": "python",
   "pygments_lexer": "ipython3",
   "version": "3.7.3"
  }
 },
 "nbformat": 4,
 "nbformat_minor": 2
}
