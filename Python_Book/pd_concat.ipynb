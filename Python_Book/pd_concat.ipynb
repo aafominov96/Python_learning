{
 "cells": [
  {
   "cell_type": "markdown",
   "metadata": {},
   "source": [
    "#### Объединение наборов данных:"
   ]
  },
  {
   "cell_type": "code",
   "execution_count": 1,
   "metadata": {},
   "outputs": [],
   "source": [
    "import pandas as pd\n",
    "import numpy as np"
   ]
  },
  {
   "cell_type": "code",
   "execution_count": 2,
   "metadata": {},
   "outputs": [],
   "source": [
    "def create_df(cols, ind):\n",
    "    data = {c: [str(c) + str(i) for i in ind] for c in cols}\n",
    "    return pd.DataFrame(data, index = ind)"
   ]
  },
  {
   "cell_type": "code",
   "execution_count": 3,
   "metadata": {},
   "outputs": [
    {
     "data": {
      "text/html": [
       "<div>\n",
       "<style scoped>\n",
       "    .dataframe tbody tr th:only-of-type {\n",
       "        vertical-align: middle;\n",
       "    }\n",
       "\n",
       "    .dataframe tbody tr th {\n",
       "        vertical-align: top;\n",
       "    }\n",
       "\n",
       "    .dataframe thead th {\n",
       "        text-align: right;\n",
       "    }\n",
       "</style>\n",
       "<table border=\"1\" class=\"dataframe\">\n",
       "  <thead>\n",
       "    <tr style=\"text-align: right;\">\n",
       "      <th></th>\n",
       "      <th>A</th>\n",
       "      <th>B</th>\n",
       "      <th>C</th>\n",
       "      <th>D</th>\n",
       "    </tr>\n",
       "  </thead>\n",
       "  <tbody>\n",
       "    <tr>\n",
       "      <td>1</td>\n",
       "      <td>A1</td>\n",
       "      <td>B1</td>\n",
       "      <td>C1</td>\n",
       "      <td>D1</td>\n",
       "    </tr>\n",
       "    <tr>\n",
       "      <td>2</td>\n",
       "      <td>A2</td>\n",
       "      <td>B2</td>\n",
       "      <td>C2</td>\n",
       "      <td>D2</td>\n",
       "    </tr>\n",
       "    <tr>\n",
       "      <td>3</td>\n",
       "      <td>A3</td>\n",
       "      <td>B3</td>\n",
       "      <td>C3</td>\n",
       "      <td>D3</td>\n",
       "    </tr>\n",
       "    <tr>\n",
       "      <td>4</td>\n",
       "      <td>A4</td>\n",
       "      <td>B4</td>\n",
       "      <td>C4</td>\n",
       "      <td>D4</td>\n",
       "    </tr>\n",
       "  </tbody>\n",
       "</table>\n",
       "</div>"
      ],
      "text/plain": [
       "    A   B   C   D\n",
       "1  A1  B1  C1  D1\n",
       "2  A2  B2  C2  D2\n",
       "3  A3  B3  C3  D3\n",
       "4  A4  B4  C4  D4"
      ]
     },
     "execution_count": 3,
     "metadata": {},
     "output_type": "execute_result"
    }
   ],
   "source": [
    "create_df('ABCD', [1,2,3,4])"
   ]
  },
  {
   "cell_type": "markdown",
   "metadata": {},
   "source": [
    "###### Конкатенация:"
   ]
  },
  {
   "cell_type": "code",
   "execution_count": 4,
   "metadata": {},
   "outputs": [
    {
     "name": "stdout",
     "output_type": "stream",
     "text": [
      "First series obj:\n",
      "0    data1\n",
      "1    data2\n",
      "2    data3\n",
      "dtype: object\n",
      "\n",
      "Second series obj:\n",
      "3    data4\n",
      "4    data5\n",
      "5    data6\n",
      "dtype: object\n",
      "\n",
      "Concatinate of first and second series obj:\n",
      "0    data1\n",
      "1    data2\n",
      "2    data3\n",
      "3    data4\n",
      "4    data5\n",
      "5    data6\n",
      "dtype: object\n",
      "\n"
     ]
    }
   ],
   "source": [
    "ser1 = pd.Series(['data1', 'data2', 'data3'], index = range(3))\n",
    "ser2 = pd.Series(['data4', 'data5', 'data6'], index = range(3, 6))\n",
    "print('First series obj:\\n{}\\n\\nSecond series obj:\\n{}\\n'.format(ser1, ser2))\n",
    "ser3 = pd.concat([ser1, ser2])\n",
    "print('Concatinate of first and second series obj:\\n{}\\n'.format(ser3))"
   ]
  },
  {
   "cell_type": "code",
   "execution_count": 5,
   "metadata": {},
   "outputs": [
    {
     "name": "stdout",
     "output_type": "stream",
     "text": [
      "First dataframe obj:\n",
      "    A   B   C   D\n",
      "0  A0  B0  C0  D0\n",
      "1  A1  B1  C1  D1\n",
      "2  A2  B2  C2  D2\n",
      "\n",
      "Second dataframe obj:\n",
      "    A   B   C   D\n",
      "3  A3  B3  C3  D3\n",
      "4  A4  B4  C4  D4\n",
      "5  A5  B5  C5  D5\n",
      "\n",
      "Concatinate of first and second dataframe obj:\n",
      "    A   B   C   D\n",
      "0  A0  B0  C0  D0\n",
      "1  A1  B1  C1  D1\n",
      "2  A2  B2  C2  D2\n",
      "3  A3  B3  C3  D3\n",
      "4  A4  B4  C4  D4\n",
      "5  A5  B5  C5  D5\n",
      "\n"
     ]
    }
   ],
   "source": [
    "df1 = create_df('ABCD', range(3))\n",
    "df2 = create_df('ABCD', range(3,6))\n",
    "print('First dataframe obj:\\n{}\\n\\nSecond dataframe obj:\\n{}\\n'.format(df1, df2))\n",
    "df3 = pd.concat([df1, df2])\n",
    "print('Concatinate of first and second dataframe obj:\\n{}\\n'.format(df3))"
   ]
  },
  {
   "cell_type": "code",
   "execution_count": 6,
   "metadata": {},
   "outputs": [
    {
     "name": "stdout",
     "output_type": "stream",
     "text": [
      "First dataframe obj:\n",
      "    A   B\n",
      "0  A0  B0\n",
      "1  A1  B1\n",
      "\n",
      "Second dataframe obj:\n",
      "    A   B\n",
      "0  A2  B2\n",
      "1  A3  B3\n",
      "\n",
      "Concatinate of first and second dataframe obj without axis:\n",
      "    A   B\n",
      "0  A0  B0\n",
      "1  A1  B1\n",
      "0  A2  B2\n",
      "1  A3  B3\n",
      "\n",
      "Concatinate of first and second dataframe obj with axis = columns:\n",
      "    A   B   A   B\n",
      "0  A0  B0  A2  B2\n",
      "1  A1  B1  A3  B3\n",
      "\n"
     ]
    }
   ],
   "source": [
    "df4 = create_df('AB', range(2))\n",
    "df5 = create_df('AB', range(2,4))\n",
    "df5.index = df4.index\n",
    "df6 = pd.concat([df4, df5], sort = True)\n",
    "df7 = pd.concat([df4, df5], axis = 'columns')\n",
    "print('First dataframe obj:\\n{}\\n\\nSecond dataframe obj:\\n{}\\n'.format(df4, df5))\n",
    "print('Concatinate of first and second dataframe obj without axis:\\n{}\\n'.format(df6))\n",
    "print('Concatinate of first and second dataframe obj with axis = columns:\\n{}\\n'.format(df7))"
   ]
  },
  {
   "cell_type": "code",
   "execution_count": 7,
   "metadata": {},
   "outputs": [
    {
     "name": "stdout",
     "output_type": "stream",
     "text": [
      "Ошибка: Indexes have overlapping values: Int64Index([0, 1], dtype='int64')\n",
      "\n",
      "Concatinate of first and second dataframe obj with ignore_index\n",
      "    A   B\n",
      "0  A0  B0\n",
      "1  A1  B1\n",
      "2  A2  B2\n",
      "3  A3  B3\n",
      "\n",
      "Concatinate of first and second dataframe obj with keys\n",
      "        A   B\n",
      "df4 0  A0  B0\n",
      "    1  A1  B1\n",
      "df5 0  A2  B2\n",
      "    1  A3  B3\n",
      "\n"
     ]
    }
   ],
   "source": [
    "try:\n",
    "    df8 = pd.concat([df4, df5], verify_integrity = True, sort = False)\n",
    "except ValueError as e:\n",
    "    print('Ошибка: {}\\n'.format(e))\n",
    "df9 = pd.concat([df4, df5], ignore_index = True)\n",
    "print('Concatinate of first and second dataframe obj with ignore_index\\n{}\\n'.format(df9))\n",
    "df10 = pd.concat([df4, df5], keys = ['df4', 'df5'])\n",
    "print('Concatinate of first and second dataframe obj with keys\\n{}\\n'.format(df10))"
   ]
  },
  {
   "cell_type": "code",
   "execution_count": 10,
   "metadata": {},
   "outputs": [
    {
     "name": "stdout",
     "output_type": "stream",
     "text": [
      "Concatinate of first and second dataframe obj\n",
      "     A   B   C    D\n",
      "0   A0  B0  C0  NaN\n",
      "1   A1  B1  C1  NaN\n",
      "2  NaN  B2  C2   D2\n",
      "3  NaN  B3  C3   D3\n",
      "\n"
     ]
    }
   ],
   "source": [
    "df11 = create_df('ABC', range(2))\n",
    "df12 = create_df('BCD', range(2,4))\n",
    "df12.index = df11.index\n",
    "df13 = pd.concat([df11, df12], ignore_index = True, sort = True)\n",
    "print('Concatinate of first and second dataframe obj\\n{}\\n'.format(df13))"
   ]
  },
  {
   "cell_type": "code",
   "execution_count": 12,
   "metadata": {},
   "outputs": [
    {
     "name": "stdout",
     "output_type": "stream",
     "text": [
      "Concatinate of first and second dataframe obj with join = inner\n",
      "    B   C\n",
      "0  B0  C0\n",
      "1  B1  C1\n",
      "2  B2  C2\n",
      "3  B3  C3\n",
      "\n"
     ]
    }
   ],
   "source": [
    "df14 = pd.concat([df11, df12], ignore_index = True, sort = True, join = 'inner')\n",
    "print('Concatinate of first and second dataframe obj with join = inner\\n{}\\n'.format(df14))"
   ]
  },
  {
   "cell_type": "code",
   "execution_count": 15,
   "metadata": {},
   "outputs": [
    {
     "name": "stdout",
     "output_type": "stream",
     "text": [
      "Concatinate of first and second dataframe obj with join_axes from df11\n",
      "     A   B   C\n",
      "0   A0  B0  C0\n",
      "1   A1  B1  C1\n",
      "2  NaN  B2  C2\n",
      "3  NaN  B3  C3\n",
      "\n",
      "Concatinate of first and second dataframe obj with join_axes from df12\n",
      "    B   C    D\n",
      "0  B0  C0  NaN\n",
      "1  B1  C1  NaN\n",
      "2  B2  C2   D2\n",
      "3  B3  C3   D3\n",
      "\n"
     ]
    },
    {
     "name": "stderr",
     "output_type": "stream",
     "text": [
      "c:\\users\\zverb\\appdata\\local\\programs\\python\\python37-32\\lib\\site-packages\\ipykernel_launcher.py:1: FutureWarning: The join_axes-keyword is deprecated. Use .reindex or .reindex_like on the result to achieve the same functionality.\n",
      "  \"\"\"Entry point for launching an IPython kernel.\n",
      "c:\\users\\zverb\\appdata\\local\\programs\\python\\python37-32\\lib\\site-packages\\ipykernel_launcher.py:3: FutureWarning: The join_axes-keyword is deprecated. Use .reindex or .reindex_like on the result to achieve the same functionality.\n",
      "  This is separate from the ipykernel package so we can avoid doing imports until\n"
     ]
    }
   ],
   "source": [
    "df15 = pd.concat([df11, df12], ignore_index = True, sort = True, join_axes = [df11.columns])\n",
    "print('Concatinate of first and second dataframe obj with join_axes from df11\\n{}\\n'.format(df15))\n",
    "df16 = pd.concat([df11, df12], ignore_index = True, sort = True, join_axes = [df12.columns])\n",
    "print('Concatinate of first and second dataframe obj with join_axes from df12\\n{}\\n'.format(df16))"
   ]
  },
  {
   "cell_type": "markdown",
   "metadata": {},
   "source": [
    "###### Метод append:"
   ]
  },
  {
   "cell_type": "code",
   "execution_count": 30,
   "metadata": {},
   "outputs": [
    {
     "name": "stdout",
     "output_type": "stream",
     "text": [
      "First df:\n",
      "     column1 column2\n",
      "ind1   name1   name4\n",
      "ind2   name2   name5\n",
      "ind3   name3   name6\n",
      "Second df:\n",
      "     column1 column3\n",
      "ind1   name7  name10\n",
      "ind2   name8  name11\n",
      "ind3   name9  name12\n",
      "\n",
      "Append df17 and df18:\n",
      "  column1 column2 column3\n",
      "0   name1   name4     NaN\n",
      "1   name2   name5     NaN\n",
      "2   name3   name6     NaN\n",
      "3   name7     NaN  name10\n",
      "4   name8     NaN  name11\n",
      "5   name9     NaN  name12\n",
      "\n"
     ]
    }
   ],
   "source": [
    "df17 = pd.DataFrame({'column1':['name1', 'name2', 'name3'], 'column2':['name4', 'name5', 'name6']},\\\n",
    "                    index = ['ind1', 'ind2', 'ind3'])\n",
    "df18 = pd.DataFrame({'column1':['name7', 'name8', 'name9'], 'column3':['name10', 'name11', 'name12']},\\\n",
    "                    index = ['ind1', 'ind2', 'ind3'])\n",
    "print('First df:\\n{}\\nSecond df:\\n{}\\n'.format(df17, df18))\n",
    "df19 = df17.append(df18, ignore_index=True)\n",
    "print('Append df17 and df18:\\n{}\\n'.format(df19))"
   ]
  },
  {
   "cell_type": "code",
   "execution_count": null,
   "metadata": {},
   "outputs": [],
   "source": []
  }
 ],
 "metadata": {
  "kernelspec": {
   "display_name": "Python 3",
   "language": "python",
   "name": "python3"
  },
  "language_info": {
   "codemirror_mode": {
    "name": "ipython",
    "version": 3
   },
   "file_extension": ".py",
   "mimetype": "text/x-python",
   "name": "python",
   "nbconvert_exporter": "python",
   "pygments_lexer": "ipython3",
   "version": "3.7.3"
  }
 },
 "nbformat": 4,
 "nbformat_minor": 2
}
