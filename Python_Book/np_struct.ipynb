{
 "cells": [
  {
   "cell_type": "code",
   "execution_count": 1,
   "metadata": {},
   "outputs": [],
   "source": [
    "# структурированные данные\n",
    "import numpy as np"
   ]
  },
  {
   "cell_type": "code",
   "execution_count": 65,
   "metadata": {},
   "outputs": [],
   "source": [
    "def definition(struct, *data):\n",
    "    l = len(data)\n",
    "    if l == 3:\n",
    "        struct['name'] = data[0]\n",
    "        struct['age'] = data[1]\n",
    "        struct['weight'] = data[-1]\n",
    "    else:\n",
    "        struct['name'] = data[0][0]\n",
    "        struct['age'] = data[0][1]\n",
    "        struct['weight'] = data[0][-1]\n",
    "    return struct"
   ]
  },
  {
   "cell_type": "code",
   "execution_count": 41,
   "metadata": {},
   "outputs": [],
   "source": [
    "# задание данных без взаимной привязки\n",
    "name = ['Artyom', 'Leonid', 'Sergey', 'Denis']\n",
    "age = [23, 23, 23, 22]\n",
    "weight = [96.4, 65.3, 60.1, 63.3]\n",
    "sum_data = [name, age, weight]"
   ]
  },
  {
   "cell_type": "code",
   "execution_count": 6,
   "metadata": {},
   "outputs": [
    {
     "name": "stdout",
     "output_type": "stream",
     "text": [
      "[('name', '<U10'), ('age', '<i4'), ('weight', '<f8')]\n",
      "[('Artyom', 23, 96.4) ('Leonid', 23, 65.3) ('Sergey', 23, 60.1)\n",
      " ('Denis', 22, 63.3)]\n"
     ]
    }
   ],
   "source": [
    "# создание структуры\n",
    "data = np.zeros(4, dtype={'names':('name','age','weight'),\n",
    "                         'formats':('U10','i4','f8')})\n",
    "print(data.dtype)\n",
    "# заполнение структуры\n",
    "data['name'] = name\n",
    "data['age'] = age\n",
    "data['weight'] = weight\n",
    "print(data)"
   ]
  },
  {
   "cell_type": "code",
   "execution_count": 15,
   "metadata": {},
   "outputs": [
    {
     "name": "stdout",
     "output_type": "stream",
     "text": [
      "['Artyom' 'Leonid' 'Sergey' 'Denis']\n",
      "[('Artyom', 23, 96.4) ('Leonid', 23, 65.3) ('Sergey', 23, 60.1)]\n",
      "['Artyom' 'Leonid' 'Denis']\n"
     ]
    }
   ],
   "source": [
    "# извлечение данных с помощью булева маскирования\n",
    "d_out_1 = data['name']\n",
    "d_out_2 = data[data['age'] == 23]\n",
    "d_out_3 = data[data['weight'] > 63]['name']\n",
    "print(d_out_1)\n",
    "print(d_out_2)\n",
    "print(d_out_3)"
   ]
  },
  {
   "cell_type": "code",
   "execution_count": 67,
   "metadata": {},
   "outputs": [
    {
     "name": "stdout",
     "output_type": "stream",
     "text": [
      "[('Artyom', 23, 96.4) ('Leonid', 23, 65.3) ('Sergey', 23, 60.1)\n",
      " ('Denis', 22, 63.3)]\n",
      "[('Artyom', 23, 96.4) ('Leonid', 23, 65.3) ('Sergey', 23, 60.1)\n",
      " ('Denis', 22, 63.3)]\n"
     ]
    }
   ],
   "source": [
    "# вариация типов данных при создании\n",
    "data_dtype_1 = np.zeros(4, dtype=([('name','<U10'),\n",
    "                                ('age','i4'),\n",
    "                                ('weight','f8')]))\n",
    "data_dtype_1 = definition(data_dtype_1, sum_data)\n",
    "print(data_dtype_1)\n",
    "data_dtype_1 = definition(data_dtype_1, name, age, weight)\n",
    "print(data_dtype_1)"
   ]
  },
  {
   "cell_type": "code",
   "execution_count": null,
   "metadata": {},
   "outputs": [],
   "source": []
  }
 ],
 "metadata": {
  "kernelspec": {
   "display_name": "Python 3",
   "language": "python",
   "name": "python3"
  },
  "language_info": {
   "codemirror_mode": {
    "name": "ipython",
    "version": 3
   },
   "file_extension": ".py",
   "mimetype": "text/x-python",
   "name": "python",
   "nbconvert_exporter": "python",
   "pygments_lexer": "ipython3",
   "version": "3.7.3"
  }
 },
 "nbformat": 4,
 "nbformat_minor": 2
}
