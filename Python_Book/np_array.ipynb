{
 "cells": [
  {
   "cell_type": "code",
   "execution_count": 1,
   "metadata": {},
   "outputs": [],
   "source": [
    "import numpy as np\n",
    "import array as ar"
   ]
  },
  {
   "cell_type": "code",
   "execution_count": 2,
   "metadata": {},
   "outputs": [
    {
     "data": {
      "text/plain": [
       "'1.16.4'"
      ]
     },
     "execution_count": 2,
     "metadata": {},
     "output_type": "execute_result"
    }
   ],
   "source": [
    "np.__version__"
   ]
  },
  {
   "cell_type": "code",
   "execution_count": 3,
   "metadata": {},
   "outputs": [
    {
     "name": "stdout",
     "output_type": "stream",
     "text": [
      "array('f', [0.0, 1.0, 2.0, 3.0, 4.0, 5.0, 6.0, 7.0, 8.0, 9.0])\n"
     ]
    }
   ],
   "source": [
    "L = list(range(10))\n",
    "A = ar.array('f', L)\n",
    "print(A)"
   ]
  },
  {
   "cell_type": "code",
   "execution_count": 4,
   "metadata": {},
   "outputs": [
    {
     "name": "stdout",
     "output_type": "stream",
     "text": [
      "[[0. 1. 2. 3. 4.]\n",
      " [0. 1. 2. 3. 4.]\n",
      " [0. 1. 2. 3. 4.]]\n"
     ]
    }
   ],
   "source": [
    "np_array = np.array([range(i, i+5) for i in [0, 0, 0]], dtype = 'float')\n",
    "print(np_array)"
   ]
  },
  {
   "cell_type": "code",
   "execution_count": 5,
   "metadata": {},
   "outputs": [
    {
     "name": "stdout",
     "output_type": "stream",
     "text": [
      "First array \n",
      " [0 0 0 0 0 0 0 0 0 0]\n",
      "Second array \n",
      " [[[0 0 0 0]\n",
      "  [0 0 0 0]\n",
      "  [0 0 0 0]]\n",
      "\n",
      " [[0 0 0 0]\n",
      "  [0 0 0 0]\n",
      "  [0 0 0 0]]]\n",
      "Third array \n",
      " [[0.33333333 0.33333333]\n",
      " [0.33333333 0.33333333]]\n",
      "Fourth array \n",
      " [ 0  4  8 12 16]\n",
      "Fifth array \n",
      " [0.         0.45454545 0.90909091 1.36363636 1.81818182 2.27272727\n",
      " 2.72727273 3.18181818 3.63636364 4.09090909 4.54545455 5.        ]\n",
      "Sixth array \n",
      " [[0.17391567 0.87094768 0.28322216 0.37733994]\n",
      " [0.76331223 0.53541174 0.26511239 0.13980708]\n",
      " [0.84240737 0.05013796 0.85329252 0.68589305]\n",
      " [0.57077884 0.77108252 0.97385072 0.78054389]]\n",
      "Seventh array \n",
      " [[ 1.00790068 -0.92156688 -1.04422433]\n",
      " [ 0.36402478 -0.70796267  0.8132091 ]\n",
      " [-0.45330646  0.79233155 -0.78128127]]\n",
      "Eighth array \n",
      " [[21 21 22]\n",
      " [20 20 23]\n",
      " [21 24 20]]\n",
      "Ninth array \n",
      " [[1 0 0 0 0]\n",
      " [0 1 0 0 0]\n",
      " [0 0 1 0 0]\n",
      " [0 0 0 1 0]\n",
      " [0 0 0 0 1]]\n",
      "Tenth array \n",
      " [[4.67296746e-307 1.69121096e-306 9.34611148e-307 8.34441742e-308]\n",
      " [1.78022342e-306 6.23058028e-307 9.79107872e-307 6.89807188e-307]\n",
      " [7.56594375e-307 6.23060065e-307 1.78021527e-306 8.34454050e-308]\n",
      " [1.11261027e-306 1.15706896e-306 1.33512173e-306 3.11213668e+180]]\n"
     ]
    }
   ],
   "source": [
    "np_array_1 = np.zeros(10, dtype = 'int')\n",
    "np_array_2 = np.zeros((2,3,4), dtype = 'int')\n",
    "np_array_3 = np.full((2,2), 4/12, dtype = 'float')\n",
    "np_array_4 = np.arange(0, 20, 4)\n",
    "np_array_5 = np.linspace(0, 5, 12)\n",
    "np_array_6 = np.random.random((4, 4))\n",
    "np_array_7 = np.random.normal(0, 1, (3, 3))\n",
    "np_array_8 = np.random.randint(20, 25, (3, 3))\n",
    "np_array_9 = np.eye(5, 5, dtype = 'int')\n",
    "np_array_10 = np.empty((4, 4))\n",
    "print('First array \\n', np_array_1)\n",
    "print('Second array \\n', np_array_2)\n",
    "print('Third array \\n', np_array_3)\n",
    "print('Fourth array \\n', np_array_4)\n",
    "print('Fifth array \\n', np_array_5)\n",
    "print('Sixth array \\n', np_array_6)\n",
    "print('Seventh array \\n', np_array_7)\n",
    "print('Eighth array \\n', np_array_8)\n",
    "print('Ninth array \\n', np_array_9)\n",
    "print('Tenth array \\n', np_array_10)"
   ]
  },
  {
   "cell_type": "code",
   "execution_count": 90,
   "metadata": {},
   "outputs": [
    {
     "name": "stdout",
     "output_type": "stream",
     "text": [
      "------------------\n",
      "Одномерный массив \n",
      " [5 0 3 3 7]\n",
      "Размерность:  1\n",
      "Размер каждого измерения:  (5,)\n",
      "Общий размер массива:  5\n",
      "Тип данных массива:  int32\n",
      "Размер каждого элемента массива в байтах:  4\n",
      "Размер массива в байтах:  20 \n",
      "\n",
      "Индексация массива:\n",
      "Третий элемент массива:  3 \n",
      "\n",
      "Срезы массива:\n",
      "Каждый второй элемент:  [0 3]\n",
      "Все элементы, начиная со второго:  [0 3 3 7]\n",
      "Все элементы, заканчивая четвертым:  [5 0 3 3]\n",
      "Массив наоборот:  [7 3 3 0 5]\n",
      "------------------\n",
      "Двумерный массив \n",
      " [[3 5 7 4 6]\n",
      " [9 8 2 2 6]\n",
      " [4 3 8 9 9]\n",
      " [8 2 3 7 3]\n",
      " [7 2 3 6 5]]\n",
      "Размерность:  2\n",
      "Размер каждого измерения:  (5, 5)\n",
      "Общий размер массива:  25\n",
      "Тип данных массива:  int32\n",
      "Размер каждого элемента массива в байтах:  4\n",
      "Размер массива в байтах:  100 \n",
      "\n",
      "Индексация массива:\n",
      "Элемент в первой строке второго столбца с конца:  4 \n",
      "\n",
      "------------------\n",
      "Трехмерный массив \n",
      " [[[  6   9  11   6   8]\n",
      "  [  9   6 777   9  11]\n",
      "  [  9   9   6   7   7]\n",
      "  [  7   6   8  10   9]\n",
      "  [  9   8  10   8   6]]\n",
      "\n",
      " [[  6  10  11  11   6]\n",
      "  [ 10   7  10   7   8]\n",
      "  [  8   6   7   7   7]\n",
      "  [  7   9   9   8   9]\n",
      "  [  6   9  11  10   7]]\n",
      "\n",
      " [[  8  10   9  10  10]\n",
      "  [ 10   9  10  10  10]\n",
      "  [  6  10   9   8  11]\n",
      "  [ 11  11   6   7  11]\n",
      "  [  7   9   6  11   6]]\n",
      "\n",
      " [[  7   8  10   8   6]\n",
      "  [ 11   9   8   8  11]\n",
      "  [  6  11   7   6   8]\n",
      "  [  8   9   8   9   8]\n",
      "  [  7   8   9   9   9]]\n",
      "\n",
      " [[  8   9  10   7   8]\n",
      "  [  9   7   8   7  10]\n",
      "  [  8   9   6   9   8]\n",
      "  [  9   6   6   6   9]\n",
      "  [  8   9   6  10   6]]]\n",
      "Размерность:  3\n",
      "Размер каждого измерения:  (5, 5, 5)\n",
      "Общий размер массива:  125\n",
      "Тип данных массива:  int32\n",
      "Размер каждого элемента массива в байтах:  4\n",
      "Размер массива в байтах:  500 \n",
      "\n",
      "Индексация массива:\n",
      "Переобозначенный первый элемент второй строки третьего блока  777  (было)  7 \n",
      "\n",
      "Срезы массива:\n",
      "Три строки и два столбца первого блока:\n",
      "  [[6 9]\n",
      " [9 6]\n",
      " [9 9]]\n",
      "Две строки со всеми столбцами второго блока:\n",
      "  [[ 6 10 11 11  6]\n",
      " [10  7 10  7  8]]\n",
      "------------------\n"
     ]
    }
   ],
   "source": [
    "# Инициализация массивов\n",
    "np.random.seed(0)\n",
    "x1 = np.random.randint(10, size = 5)\n",
    "x2 = np.random.randint(2,10, size = (5, 5))\n",
    "x3 = np.random.randint(6,12, size = (5, 5, 5))\n",
    "# Копирование и представление срезов\n",
    "buf_1 = x3[:1, :, :].copy()\n",
    "x3[0, 1, 2] = 777\n",
    "# Работа с массивом\n",
    "print('------------------')\n",
    "print('Одномерный массив \\n', x1)\n",
    "print('Размерность: ', x1.ndim)\n",
    "print('Размер каждого измерения: ', x1.shape)\n",
    "print('Общий размер массива: ', x1.size)\n",
    "print('Тип данных массива: ', x1.dtype)\n",
    "print('Размер каждого элемента массива в байтах: ', x1.itemsize)\n",
    "print('Размер массива в байтах: ', x1.nbytes, '\\n')\n",
    "print('Индексация массива:')\n",
    "print('Третий элемент массива: ', x1[2], '\\n')\n",
    "print('Срезы массива:')\n",
    "print('Каждый второй элемент: ', x1[1::2])\n",
    "print('Все элементы, начиная со второго: ', x1[1::])\n",
    "print('Все элементы, заканчивая четвертым: ', x1[:4:])\n",
    "print('Массив наоборот: ', x1[::-1])\n",
    "print('------------------')\n",
    "print('Двумерный массив \\n', x2)\n",
    "print('Размерность: ', x2.ndim)\n",
    "print('Размер каждого измерения: ', x2.shape)\n",
    "print('Общий размер массива: ', x2.size)\n",
    "print('Тип данных массива: ', x2.dtype)\n",
    "print('Размер каждого элемента массива в байтах: ', x2.itemsize)\n",
    "print('Размер массива в байтах: ', x2.nbytes, '\\n')\n",
    "print('Индексация массива:')\n",
    "print('Элемент в первой строке второго столбца с конца: ', x2[0, -2], '\\n')\n",
    "print('------------------')\n",
    "print('Трехмерный массив \\n', x3)\n",
    "print('Размерность: ', x3.ndim)\n",
    "print('Размер каждого измерения: ', x3.shape)\n",
    "print('Общий размер массива: ', x3.size)\n",
    "print('Тип данных массива: ', x3.dtype)\n",
    "print('Размер каждого элемента массива в байтах: ', x3.itemsize)\n",
    "print('Размер массива в байтах: ', x3.nbytes, '\\n')\n",
    "print('Индексация массива:')\n",
    "print('Переобозначенный первый элемент второй строки третьего блока ', x3[0, 1, 2], ' (было) ', buf_1[0, 1, 2], '\\n')\n",
    "print('Срезы массива:')\n",
    "print('Три строки и два столбца первого блока:\\n ', x3[0, :3, :2])\n",
    "print('Две строки со всеми столбцами второго блока:\\n ', x3[1, :2, :])\n",
    "print('------------------')"
   ]
  },
  {
   "cell_type": "code",
   "execution_count": 110,
   "metadata": {},
   "outputs": [
    {
     "name": "stdout",
     "output_type": "stream",
     "text": [
      "[0 1 2]\n",
      "----------\n",
      "[[0 1 2]]\n",
      "[[0]\n",
      " [1]\n",
      " [2]]\n",
      "----------\n",
      "[[0 1 2]]\n",
      "[[0]\n",
      " [1]\n",
      " [2]]\n",
      "----------\n",
      "[[1 2 3]\n",
      " [4 5 6]\n",
      " [7 8 9]]\n"
     ]
    }
   ],
   "source": [
    "x4 = np.array([i for i in range(3)])\n",
    "print(x4)\n",
    "print('----------')\n",
    "x4 = x4.reshape((1,3))\n",
    "print(x4)\n",
    "x4 = np.array([i for i in range(3)])\n",
    "x4 = x4.reshape((3,1))\n",
    "print(x4)\n",
    "print('----------')\n",
    "x4 = np.array([i for i in range(3)])\n",
    "x4 = x4[np.newaxis, :]\n",
    "print(x4)\n",
    "x4 = np.array([i for i in range(3)])\n",
    "x4 = x4[:, np.newaxis]\n",
    "print(x4)\n",
    "print('----------')\n",
    "grid = np.arange(1,10).reshape((3,3))\n",
    "print(grid)"
   ]
  },
  {
   "cell_type": "code",
   "execution_count": 6,
   "metadata": {},
   "outputs": [
    {
     "name": "stdout",
     "output_type": "stream",
     "text": [
      "[[4 0]\n",
      " [3 3]]\n",
      "[[3 1]\n",
      " [3 2]]\n",
      "[4 0]\n",
      "[[0]\n",
      " [4]]\n"
     ]
    }
   ],
   "source": [
    "np.random.seed(0)\n",
    "dim = (2,2)\n",
    "x1 = np.random.randint(5, size = dim)\n",
    "print(x1)\n",
    "x2 = np.random.randint(5, size = dim)\n",
    "print(x2)\n",
    "x3 = np.random.randint(5, size = 2)\n",
    "print(x3)\n",
    "x4 = np.random.randint(5, size = 2)\n",
    "x4 = x4[:, np.newaxis]\n",
    "print(x4)"
   ]
  },
  {
   "cell_type": "code",
   "execution_count": 7,
   "metadata": {},
   "outputs": [
    {
     "name": "stdout",
     "output_type": "stream",
     "text": [
      "[[4 0]\n",
      " [3 3]\n",
      " [3 1]\n",
      " [3 2]]\n",
      "[[4 0 3 1]\n",
      " [3 3 3 2]]\n",
      "[[4 0]\n",
      " [3 3]\n",
      " [4 0]]\n",
      "[[4 0 0]\n",
      " [3 3 4]]\n",
      "[[4]\n",
      " [3]] [[0]\n",
      " [3]] [[0]\n",
      " [4]]\n"
     ]
    }
   ],
   "source": [
    "# слияние массивов \n",
    "cc1 = np.concatenate([x1,x2], axis = 0)\n",
    "cc2 = np.concatenate([x1,x2], axis = 1)\n",
    "cc3 = np.vstack([x1,x3])\n",
    "cc4 = np.hstack([x1,x4])\n",
    "print(cc1)\n",
    "print(cc2)\n",
    "print(cc3)\n",
    "print(cc4)\n",
    "sp1, sp2, sp3 = np.hsplit(cc4, [1,2])\n",
    "print(sp1, sp2, sp3)"
   ]
  },
  {
   "cell_type": "code",
   "execution_count": null,
   "metadata": {},
   "outputs": [],
   "source": []
  }
 ],
 "metadata": {
  "kernelspec": {
   "display_name": "Python 3",
   "language": "python",
   "name": "python3"
  },
  "language_info": {
   "codemirror_mode": {
    "name": "ipython",
    "version": 3
   },
   "file_extension": ".py",
   "mimetype": "text/x-python",
   "name": "python",
   "nbconvert_exporter": "python",
   "pygments_lexer": "ipython3",
   "version": "3.7.3"
  }
 },
 "nbformat": 4,
 "nbformat_minor": 2
}
