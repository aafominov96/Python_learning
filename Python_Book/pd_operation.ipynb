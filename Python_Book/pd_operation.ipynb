{
 "cells": [
  {
   "cell_type": "code",
   "execution_count": 4,
   "metadata": {},
   "outputs": [],
   "source": [
    "import pandas as pd\n",
    "import numpy as np"
   ]
  },
  {
   "cell_type": "code",
   "execution_count": 29,
   "metadata": {},
   "outputs": [
    {
     "name": "stdout",
     "output_type": "stream",
     "text": [
      "0    5\n",
      "1    5\n",
      "2    4\n",
      "3    7\n",
      "4    2\n",
      "dtype: int32\n",
      "   one  two  three  four\n",
      "A    5    1      3     9\n",
      "B    7    7      1     1\n",
      "C    3    2      2     4\n",
      "D    4    6      0     6\n",
      "E    0    7      4     2\n",
      "        one       two     three      four\n",
      "A  0.018316  0.000335  0.002479  1.000000\n",
      "B  0.135335  0.135335  0.000335  0.000335\n",
      "C  0.002479  0.000912  0.000912  0.006738\n",
      "D  0.006738  0.049787  0.000123  0.049787\n",
      "E  0.000123  0.135335  0.006738  0.000912\n"
     ]
    }
   ],
   "source": [
    "rng = np.random.RandomState(30)\n",
    "ser = pd.Series(rng.randint(0, 10, 5))\n",
    "print(ser)\n",
    "df = pd.DataFrame(rng.randint(0, 10, (5,4)), index = ['A','B','C','D','E'], columns = ['one','two','three','four'])\n",
    "print(df)\n",
    "df = np.exp(df)/np.max(np.max(np.exp(df)))\n",
    "print(df)"
   ]
  },
  {
   "cell_type": "code",
   "execution_count": 36,
   "metadata": {},
   "outputs": [
    {
     "name": "stdout",
     "output_type": "stream",
     "text": [
      "      A     B\n",
      "a  0.50   NaN\n",
      "b  0.13  0.33\n",
      "c  1.23  2.21\n",
      "d   NaN  0.54\n",
      "a     NaN\n",
      "b    0.46\n",
      "c    3.44\n",
      "d     NaN\n",
      "dtype: float64\n",
      "a    0.50\n",
      "b    0.46\n",
      "c    3.44\n",
      "d    0.54\n",
      "dtype: float64\n"
     ]
    }
   ],
   "source": [
    "A_dict = {'a': 0.5, 'b': 0.13, 'c': 1.23}\n",
    "A = pd.Series(A_dict)\n",
    "B = pd.Series([0.33, 2.21, 0.54], index=['b','c','d'])\n",
    "C = pd.DataFrame({'A': A_dict, 'B': B})\n",
    "print(C)\n",
    "print(A+B)\n",
    "print(A.add(B, fill_value = 0))"
   ]
  },
  {
   "cell_type": "code",
   "execution_count": 41,
   "metadata": {},
   "outputs": [
    {
     "name": "stdout",
     "output_type": "stream",
     "text": [
      "      A   B     C\n",
      "1  49.0 NaN   6.0\n",
      "2  18.0 NaN  12.0\n",
      "3   NaN NaN   NaN\n",
      "      A     B     C\n",
      "1  49.0  31.5   6.0\n",
      "2  18.0  10.5  12.0\n",
      "3  14.0   7.0  21.0\n"
     ]
    }
   ],
   "source": [
    "G = pd.DataFrame(rng.randint(0, 10, (2,2)), index = list('12'), columns = list('AC'))\n",
    "H = pd.DataFrame(rng.randint(0, 10, (3,3)), index = list('123'), columns = list('ABC'))\n",
    "print(G * H)\n",
    "print(G.multiply(H, fill_value = G.stack().mean()))"
   ]
  },
  {
   "cell_type": "code",
   "execution_count": 49,
   "metadata": {},
   "outputs": [
    {
     "name": "stdout",
     "output_type": "stream",
     "text": [
      "   A  B  C  D\n",
      "0  7  3  8  8\n",
      "1  6  5  3  6\n",
      "2  0  6  2  7\n",
      "3  9  8  7  7\n",
      "______\n",
      "   A  B  C  D\n",
      "0  0  0  0  0\n",
      "1 -1  2 -5 -2\n",
      "2 -7  3 -6 -1\n",
      "3  2  5 -1 -1\n",
      "   A  B  C  D\n",
      "0  0  0  0  0\n",
      "1 -1  2 -5 -2\n",
      "2 -7  3 -6 -1\n",
      "3  2  5 -1 -1\n",
      "______\n",
      "A    6\n",
      "C    3\n",
      "Name: 1, dtype: int32\n",
      "     A   B    C   D\n",
      "0  1.0 NaN  5.0 NaN\n",
      "1  0.0 NaN  0.0 NaN\n",
      "2 -6.0 NaN -1.0 NaN\n",
      "3  3.0 NaN  4.0 NaN\n",
      "______\n",
      "   A  B  C  D\n",
      "0 -1 -5  0  0\n",
      "1  3  2  0  3\n",
      "2 -2  4  0  5\n",
      "3  2  1  0  0\n"
     ]
    }
   ],
   "source": [
    "J = pd.DataFrame(rng.randint(0, 10, (4,4)), columns=list('ABCD'))\n",
    "print(J)\n",
    "print('______')\n",
    "print(J - J.iloc[0])\n",
    "print(J - J.loc[0])\n",
    "print('______')\n",
    "halfrow = J.iloc[1,::2]\n",
    "print(halfrow)\n",
    "print(J - halfrow)\n",
    "print('______')\n",
    "print(J.subtract(J['C'], axis=0))"
   ]
  },
  {
   "cell_type": "code",
   "execution_count": null,
   "metadata": {},
   "outputs": [],
   "source": []
  }
 ],
 "metadata": {
  "kernelspec": {
   "display_name": "Python 3",
   "language": "python",
   "name": "python3"
  },
  "language_info": {
   "codemirror_mode": {
    "name": "ipython",
    "version": 3
   },
   "file_extension": ".py",
   "mimetype": "text/x-python",
   "name": "python",
   "nbconvert_exporter": "python",
   "pygments_lexer": "ipython3",
   "version": "3.7.3"
  }
 },
 "nbformat": 4,
 "nbformat_minor": 2
}
