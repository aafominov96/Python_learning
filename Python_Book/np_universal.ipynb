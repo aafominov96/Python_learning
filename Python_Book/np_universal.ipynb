{
 "cells": [
  {
   "cell_type": "code",
   "execution_count": 43,
   "metadata": {},
   "outputs": [],
   "source": [
    "import numpy as np\n",
    "from scipy import special as sp"
   ]
  },
  {
   "cell_type": "code",
   "execution_count": 2,
   "metadata": {},
   "outputs": [],
   "source": [
    "def div1 (mass):\n",
    "    out_mass = np.zeros(shape = mass.shape)\n",
    "    for i in range(mass.shape[0]):\n",
    "        for j in range(mass.shape[1]):\n",
    "            out_mass[i][j] = 1/mass[i][j]\n",
    "    return out_mass"
   ]
  },
  {
   "cell_type": "code",
   "execution_count": 3,
   "metadata": {},
   "outputs": [
    {
     "name": "stdout",
     "output_type": "stream",
     "text": [
      "[[0.5488135  0.71518937 0.60276338 ... 0.1289263  0.31542835 0.36371077]\n",
      " [0.57019677 0.43860151 0.98837384 ... 0.02010755 0.82894003 0.00469548]\n",
      " [0.67781654 0.27000797 0.73519402 ... 0.91948261 0.7142413  0.99884701]\n",
      " ...\n",
      " [0.0698143  0.22649128 0.48110196 ... 0.43584121 0.73859222 0.52658426]\n",
      " [0.88668322 0.8309088  0.03160544 ... 0.55957053 0.5846446  0.09127072]\n",
      " [0.60047104 0.38152221 0.86758085 ... 0.72433098 0.19157101 0.66217423]]\n",
      "1.87 ms ± 17.1 µs per loop (mean ± std. dev. of 7 runs, 1000 loops each)\n"
     ]
    }
   ],
   "source": [
    "np.random.seed(0)\n",
    "dim = (50,50)\n",
    "x1 = np.random.random(dim)\n",
    "print(x0)\n",
    "%timeit div1(x0)\n",
    "%timeit 1.0/x0"
   ]
  },
  {
   "cell_type": "code",
   "execution_count": 25,
   "metadata": {},
   "outputs": [
    {
     "name": "stdout",
     "output_type": "stream",
     "text": [
      "[0.         0.33069396 0.66138793 0.99208189 1.32277585 1.65346982\n",
      " 1.98416378 2.31485774 2.64555171 2.97624567 3.30693964 3.6376336\n",
      " 3.96832756 4.29902153 4.62971549 4.96040945 5.29110342 5.62179738\n",
      " 5.95249134 6.28318531]\n",
      "[  1.           1.39193374   1.93747955   2.69684316   3.753827\n",
      "   5.22507848   7.27296305  10.1234827   14.09121718  19.6140407\n",
      "  27.30144511  38.00180273  52.89599158  73.62771563 102.48490193\n",
      " 142.65219331 198.56240162 276.38570723 384.71059243 535.49165552]\n",
      "[ 1.          0.94581724  0.78914051  0.54694816  0.24548549 -0.08257935\n",
      " -0.40169542 -0.67728157 -0.87947375 -0.9863613  -0.9863613  -0.87947375\n",
      " -0.67728157 -0.40169542 -0.08257935  0.24548549  0.54694816  0.78914051\n",
      "  0.94581724  1.        ]\n",
      "[0.         0.31937324 0.58433918 0.78142339 0.92347519 1.0268631\n",
      " 1.10396129 1.16301834 1.20940425 1.24665329 1.27714429 1.30251938\n",
      " 1.32394059 1.34224947 1.35806837 1.37186637 1.3840031  1.39475853\n",
      " 1.40435366 1.41296514]\n",
      "[0.00000000e+00 3.91933745e-01 9.37479549e-01 1.69684316e+00\n",
      " 2.75382700e+00 4.22507848e+00 6.27296305e+00 9.12348270e+00\n",
      " 1.30912172e+01 1.86140407e+01 2.63014451e+01 3.70018027e+01\n",
      " 5.18959916e+01 7.26277156e+01 1.01484902e+02 1.41652193e+02\n",
      " 1.97562402e+02 2.75385707e+02 3.83710592e+02 5.34491656e+02]\n",
      "[0.         0.35998075 0.65038884 0.83938783 0.9386116  0.98063139\n",
      " 0.99498442 0.99893852 0.99981698 0.99997435 0.99999708 0.99999973\n",
      " 0.99999998 1.         1.         1.         1.         1.\n",
      " 1.         1.        ]\n",
      "62.83185307179586\n",
      "[ 0.          0.33069396  0.99208189  1.98416378  3.30693964  4.96040945\n",
      "  6.94457323  9.25943098 11.90498269 14.88122836 18.18816799 21.82580159\n",
      " 25.79412916 30.09315068 34.72286617 39.68327562 44.97437904 50.59617642\n",
      " 56.54866776 62.83185307]\n"
     ]
    }
   ],
   "source": [
    "x1 = np.linspace(start = 0, stop = np.pi * 2, num = 20)\n",
    "y1 = np.zeros(shape = x1.shape)\n",
    "print(x1)\n",
    "print(np.exp(x1))\n",
    "print(np.cos(x1))\n",
    "print(np.arctan(x1))\n",
    "np.expm1(x1, out = y1);\n",
    "print(y1)\n",
    "print(sp.erf(x1))\n",
    "print(np.add.reduce(x1))\n",
    "print(np.add.accumulate(x1))"
   ]
  },
  {
   "cell_type": "code",
   "execution_count": 42,
   "metadata": {},
   "outputs": [
    {
     "name": "stdout",
     "output_type": "stream",
     "text": [
      "[0 1 2 3 4]\n",
      "[[ 0  0  0  0  0]\n",
      " [ 0  1  2  3  4]\n",
      " [ 0  2  4  6  8]\n",
      " [ 0  3  6  9 12]\n",
      " [ 0  4  8 12 16]]\n",
      "[[0 1 2 3 4]\n",
      " [1 2 3 4 5]\n",
      " [2 3 4 5 6]\n",
      " [3 4 5 6 7]\n",
      " [4 5 6 7 8]]\n",
      "[[0 1]\n",
      " [2 3]]\n",
      "[[[0 1]\n",
      "  [2 3]]\n",
      "\n",
      " [[1 2]\n",
      "  [3 4]]\n",
      "\n",
      " [[2 3]\n",
      "  [4 5]]\n",
      "\n",
      " [[3 4]\n",
      "  [5 6]]\n",
      "\n",
      " [[4 5]\n",
      "  [6 7]]]\n",
      "0\n",
      "[ 0  4  8 12 16]\n"
     ]
    }
   ],
   "source": [
    "x2 = np.arange(0, 5, 1)\n",
    "#x2_0 = np.zeros(shape = x2.shape)\n",
    "print(x2)\n",
    "x2_0 = np.multiply.outer(x2, x2)\n",
    "print(x2_0)\n",
    "print(np.add.outer(x2, x2))\n",
    "x3 = np.arange(0, 4).reshape(2, 2)\n",
    "print(x3)\n",
    "print(np.add.outer(x2, x3))\n",
    "print(x3.min())\n",
    "print(x2_0.max(axis = 1))"
   ]
  },
  {
   "cell_type": "code",
   "execution_count": 62,
   "metadata": {},
   "outputs": [
    {
     "name": "stdout",
     "output_type": "stream",
     "text": [
      "[0 1 2]\n",
      "[0 1 2]\n",
      "--------\n",
      "[5 6 7]\n",
      "[0 2 4]\n",
      "--------\n",
      "[0 2 4]\n",
      "[0 2 4]\n",
      "[[0 1 2]\n",
      " [1 2 3]\n",
      " [2 3 4]]\n",
      "--------\n",
      "[[0]\n",
      " [1]\n",
      " [2]]\n",
      "[[0 1 2]\n",
      " [1 2 3]\n",
      " [2 3 4]]\n",
      "[[[0]\n",
      "  [1]\n",
      "  [2]]\n",
      "\n",
      " [[1]\n",
      "  [2]\n",
      "  [3]]\n",
      "\n",
      " [[2]\n",
      "  [3]\n",
      "  [4]]]\n",
      "--------\n",
      "[[ 0  2  4]\n",
      " [ 3  5  7]\n",
      " [ 6  8 10]]\n"
     ]
    }
   ],
   "source": [
    "# Транслирование массивов\n",
    "x = np.arange(3)\n",
    "y = np.arange(3)\n",
    "print(x)\n",
    "print(y)\n",
    "print('--------')\n",
    "print(x + 5)\n",
    "print(x * 2)\n",
    "print('--------')\n",
    "print(x + y)\n",
    "print(np.add(x, y))\n",
    "print(np.add.outer(x,y))\n",
    "print('--------')\n",
    "y = y[:, np.newaxis]\n",
    "print(y)\n",
    "print(x + y)\n",
    "print(np.add.outer(x, y))\n",
    "print('--------')\n",
    "k = np.arange(9).reshape(3,3)\n",
    "l = np.arange(3)\n",
    "print(k + l)"
   ]
  },
  {
   "cell_type": "code",
   "execution_count": null,
   "metadata": {},
   "outputs": [],
   "source": []
  }
 ],
 "metadata": {
  "kernelspec": {
   "display_name": "Python 3",
   "language": "python",
   "name": "python3"
  },
  "language_info": {
   "codemirror_mode": {
    "name": "ipython",
    "version": 3
   },
   "file_extension": ".py",
   "mimetype": "text/x-python",
   "name": "python",
   "nbconvert_exporter": "python",
   "pygments_lexer": "ipython3",
   "version": "3.7.3"
  }
 },
 "nbformat": 4,
 "nbformat_minor": 2
}
