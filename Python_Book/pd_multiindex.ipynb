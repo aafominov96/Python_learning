{
 "cells": [
  {
   "cell_type": "code",
   "execution_count": 1,
   "metadata": {},
   "outputs": [],
   "source": [
    "import pandas as pd\n",
    "import numpy as np"
   ]
  },
  {
   "cell_type": "code",
   "execution_count": 2,
   "metadata": {},
   "outputs": [
    {
     "name": "stdout",
     "output_type": "stream",
     "text": [
      "(Artyom, 2010)    16\n",
      "(Sergey, 2010)    16\n",
      "(Sergey, 2019)    23\n",
      "(Leonid, 2010)    16\n",
      "(Leonid, 2019)    23\n",
      "dtype: int64\n",
      "Artyom  2010    16\n",
      "Sergey  2010    16\n",
      "        2019    23\n",
      "Leonid  2010    16\n",
      "        2019    23\n",
      "dtype: int64\n",
      "Artyom    16\n",
      "Sergey    16\n",
      "Leonid    16\n",
      "dtype: int64\n",
      "Sergey  2019    23\n",
      "Leonid  2019    23\n",
      "dtype: int64\n",
      "__________\n",
      "        2010  2019\n",
      "Artyom  16.0   NaN\n",
      "Leonid  16.0  23.0\n",
      "Sergey  16.0  23.0\n",
      "Artyom  2010    16.0\n",
      "Leonid  2010    16.0\n",
      "        2019    23.0\n",
      "Sergey  2010    16.0\n",
      "        2019    23.0\n",
      "dtype: float64\n"
     ]
    }
   ],
   "source": [
    "index_tup = [('Artyom', 2010), ('Sergey', 2010), ('Sergey', 2019), ('Leonid', 2010),\n",
    "         ('Leonid', 2019)]\n",
    "index = pd.MultiIndex.from_tuples(index_tup)\n",
    "age = [16, 16, 23, 16, 23]\n",
    "a = pd.Series(age, index=index_tup)\n",
    "print(a)\n",
    "a = a.reindex(index)\n",
    "print(a)\n",
    "print(a[:, 2010])\n",
    "print(a[a>17])\n",
    "a_df = a.unstack()\n",
    "print('__________')\n",
    "print(a_df)\n",
    "a = a_df.stack()\n",
    "print(a)"
   ]
  },
  {
   "cell_type": "code",
   "execution_count": 6,
   "metadata": {},
   "outputs": [
    {
     "name": "stdout",
     "output_type": "stream",
     "text": [
      "Artyom  2010    16.0\n",
      "Leonid  2010    16.0\n",
      "        2019    23.0\n",
      "Sergey  2010    16.0\n",
      "        2019    23.0\n",
      "dtype: float64\n",
      "              age    city  GOAT marks\n",
      "Artyom 2010  16.0  Moscow          10\n",
      "Leonid 2010  16.0     Ufa          10\n",
      "       2019  23.0  Moscow          14\n",
      "Sergey 2010  16.0  Moscow          11\n",
      "       2019  23.0  Moscow          13\n"
     ]
    }
   ],
   "source": [
    "a_df = pd.DataFrame({'age': a, 'city': ['Moscow','Ufa','Moscow','Moscow','Moscow'], 'GOAT marks':[10, 10, 14, 11, 13]})\n",
    "print(a_df)"
   ]
  },
  {
   "cell_type": "code",
   "execution_count": 7,
   "metadata": {
    "scrolled": true
   },
   "outputs": [
    {
     "name": "stdout",
     "output_type": "stream",
     "text": [
      "Artyom  2010    1.600000\n",
      "Leonid  2010    1.600000\n",
      "        2019    1.642857\n",
      "Sergey  2010    1.454545\n",
      "        2019    1.769231\n",
      "dtype: float64\n",
      "            2010      2019\n",
      "Artyom  1.600000       NaN\n",
      "Leonid  1.600000  1.642857\n",
      "Sergey  1.454545  1.769231\n"
     ]
    }
   ],
   "source": [
    "data_0 = a_df['age'] / a_df['GOAT marks']\n",
    "print(data_0)\n",
    "print(data_0.unstack())"
   ]
  },
  {
   "cell_type": "code",
   "execution_count": 3,
   "metadata": {},
   "outputs": [
    {
     "name": "stdout",
     "output_type": "stream",
     "text": [
      "            c1        c2        c3\n",
      "1 11  0.575343  0.406237  0.492596\n",
      "  12  0.606171  0.868763  0.536381\n",
      "  13  0.779700  0.122634  0.986026\n",
      "2 21  0.333809  0.965558  0.182877\n",
      "              col1      col2\n",
      "1 11 111  0.001593  0.526819\n",
      "     112  0.944103  0.548041\n",
      "  12 121  0.968083  0.911789\n",
      "2 21 211  0.741178  0.201056\n",
      "              col1      col2\n",
      "1 11 111  0.694772  0.689620\n",
      "     112  0.797372  0.157575\n",
      "  12 121  0.287237  0.865550\n",
      "2 21 211  0.279837  0.129321\n",
      "         col1      col2\n",
      "1 a  0.436564  0.987468\n",
      "  b  0.170833  0.433701\n",
      "  c  0.573867  0.834338\n",
      "2 a  0.075705  0.617671\n",
      "  b  0.604313  0.963607\n",
      "  c  0.119630  0.370791\n",
      "         col1      col2\n",
      "f s                    \n",
      "0 0  0.605050  0.014946\n",
      "  1  0.703210  0.181358\n",
      "  2  0.541141  0.930807\n",
      "  3  0.782392  0.321524\n",
      "  4  0.683099  0.313047\n",
      "1 0  0.988696  0.399753\n",
      "  1  0.723124  0.281693\n",
      "  2  0.084962  0.319509\n",
      "  3  0.161030  0.883218\n",
      "  4  0.839509  0.608398\n",
      "2 0  0.497474  0.953033\n",
      "  1  0.931818  0.475673\n",
      "  2  0.777495  0.529294\n",
      "  3  0.338743  0.343511\n",
      "  4  0.400054  0.614287\n",
      "3 0  0.804412  0.860374\n",
      "  1  0.898990  0.564884\n",
      "  2  0.733613  0.205463\n",
      "  3  0.577451  0.388876\n",
      "  4  0.972565  0.958893\n",
      "4 0  0.936161  0.815559\n",
      "  1  0.700328  0.189702\n",
      "  2  0.159902  0.134261\n",
      "  3  0.263004  0.329519\n",
      "  4  0.220416  0.438070\n"
     ]
    }
   ],
   "source": [
    "# создание объектов с мультииндексами\n",
    "ob_0 = pd.DataFrame(np.random.rand(4,3), index=[[1,1,1,2], [11,12,13,21]], columns=['c1', 'c2', 'c3'])\n",
    "print(ob_0)\n",
    "# явные конструкторы мультииндексов\n",
    "i_0 = pd.MultiIndex.from_arrays([[1,1,1,2],[11,11,12,21],[111,112,121,211]])\n",
    "ob_1 = pd.DataFrame(np.random.rand(4,2), index=i_0, columns=['col1', 'col2'])\n",
    "print(ob_1)\n",
    "i_1 = pd.MultiIndex.from_tuples([(1,11,111),(1,11,112),(1,12,121),(2,21,211)])\n",
    "ob_2 = pd.DataFrame(np.random.rand(4,2), index=i_1, columns=['col1', 'col2'])\n",
    "print(ob_2)\n",
    "i_2 = pd.MultiIndex.from_product([[1,2],['a','b','c']])\n",
    "ob_3 = pd.DataFrame(np.random.rand(6,2), index=i_2, columns=['col1', 'col2'])\n",
    "print(ob_3)\n",
    "i_3 = pd.MultiIndex.from_product([range(5),range(5)])\n",
    "ob_4 = pd.DataFrame(np.random.rand(25,2), index=i_3, columns=['col1', 'col2'])\n",
    "ob_4.index.names = ['f', 's']\n",
    "print(ob_4)"
   ]
  },
  {
   "cell_type": "code",
   "execution_count": 9,
   "metadata": {},
   "outputs": [
    {
     "name": "stdout",
     "output_type": "stream",
     "text": [
      "Name                 Artyom          Sergey          Leonid           Denis  \\\n",
      "Parameters        HR(Pulse)  Temp HR(Pulse)  Temp HR(Pulse)  Temp HR(Pulse)   \n",
      "Year Visit                                                                    \n",
      "2017 First visit       28.0  35.9      56.0  36.7      43.0  37.9      42.0   \n",
      "     Second visit      32.0  38.3      33.0  36.5      43.0  37.3      62.0   \n",
      "     Third visit       40.0  35.0      33.0  38.2      40.0  37.8      30.0   \n",
      "     Fourth visit      41.0  38.5      34.0  36.4      33.0  38.4      36.0   \n",
      "     Fifth visit       51.0  37.7      30.0  34.5      37.0  36.9      43.0   \n",
      "2018 First visit       19.0  38.3      37.0  37.8      31.0  38.0      13.0   \n",
      "     Second visit      39.0  37.4      62.0  36.6      52.0  38.2      34.0   \n",
      "     Third visit       33.0  35.8      39.0  39.8      41.0  36.6      38.0   \n",
      "     Fourth visit      37.0  38.0      38.0  36.7      45.0  36.0      47.0   \n",
      "     Fifth visit       39.0  36.5      31.0  36.3      44.0  36.0      15.0   \n",
      "2019 First visit       24.0  36.9      55.0  38.9      44.0  36.9      39.0   \n",
      "     Second visit      43.0  38.7      47.0  36.7      46.0  37.3      43.0   \n",
      "     Third visit       27.0  38.5      65.0  37.0      45.0  35.5      10.0   \n",
      "     Fourth visit      22.0  35.1      36.0  36.3      30.0  37.0      34.0   \n",
      "     Fifth visit       40.0  38.3      57.0  37.9      24.0  36.4      37.0   \n",
      "\n",
      "Name                     \n",
      "Parameters         Temp  \n",
      "Year Visit               \n",
      "2017 First visit   36.5  \n",
      "     Second visit  36.9  \n",
      "     Third visit   35.7  \n",
      "     Fourth visit  39.5  \n",
      "     Fifth visit   36.6  \n",
      "2018 First visit   37.8  \n",
      "     Second visit  37.6  \n",
      "     Third visit   37.5  \n",
      "     Fourth visit  38.0  \n",
      "     Fifth visit   37.0  \n",
      "2019 First visit   37.9  \n",
      "     Second visit  35.6  \n",
      "     Third visit   37.4  \n",
      "     Fourth visit  37.2  \n",
      "     Fifth visit   38.2  \n"
     ]
    }
   ],
   "source": [
    "## мультииндексация для столбцов\n",
    "# иерархия строк и столбцов\n",
    "i_m = pd.MultiIndex.from_product([[2017, 2018, 2019], ['First visit', 'Second visit', 'Third visit', 'Fourth visit', 'Fifth visit']])\n",
    "c_m = pd.MultiIndex.from_product([['Artyom', 'Sergey', 'Leonid', 'Denis'], ['HR(Pulse)', 'Temp']],\n",
    "                                 names = ['Name', 'Parameters']) #имена можно здесь\n",
    "# имитационные данные\n",
    "data = np.round(np.random.randn(15,8), 1)\n",
    "data[:, ::2] *= 10\n",
    "data += 37\n",
    "# объект DataFrame\n",
    "health_stat = pd.DataFrame(data, index=i_m, columns=c_m)\n",
    "health_stat.index.names = ['Year', 'Visit'] # а можно здесь\n",
    "print(health_stat)"
   ]
  },
  {
   "cell_type": "code",
   "execution_count": 10,
   "metadata": {},
   "outputs": [
    {
     "name": "stdout",
     "output_type": "stream",
     "text": [
      "Artyom    16.0\n",
      "Leonid    16.0\n",
      "Sergey    16.0\n",
      "dtype: float64\n",
      "Leonid  2019    23.0\n",
      "Sergey  2019    23.0\n",
      "dtype: float64\n",
      "Leonid  2010    16.0\n",
      "        2019    23.0\n",
      "Sergey  2010    16.0\n",
      "        2019    23.0\n",
      "dtype: float64\n",
      "________\n",
      "Year  Visit       \n",
      "2017  First visit     36.7\n",
      "      Second visit    36.5\n",
      "      Third visit     38.2\n",
      "      Fourth visit    36.4\n",
      "      Fifth visit     34.5\n",
      "2018  First visit     37.8\n",
      "      Second visit    36.6\n",
      "      Third visit     39.8\n",
      "      Fourth visit    36.7\n",
      "      Fifth visit     36.3\n",
      "2019  First visit     38.9\n",
      "      Second visit    36.7\n",
      "      Third visit     37.0\n",
      "      Fourth visit    36.3\n",
      "      Fifth visit     37.9\n",
      "Name: (Sergey, Temp), dtype: float64\n",
      "Name                 Artyom          Sergey          Leonid           Denis  \\\n",
      "Parameters        HR(Pulse)  Temp HR(Pulse)  Temp HR(Pulse)  Temp HR(Pulse)   \n",
      "Year Visit                                                                    \n",
      "2017 First visit       28.0  35.9      56.0  36.7      43.0  37.9      42.0   \n",
      "     Second visit      32.0  38.3      33.0  36.5      43.0  37.3      62.0   \n",
      "\n",
      "Name                     \n",
      "Parameters         Temp  \n",
      "Year Visit               \n",
      "2017 First visit   36.5  \n",
      "     Second visit  36.9  \n",
      "________\n",
      "Year  Visit       \n",
      "2017  First visit     36.7\n",
      "      Second visit    36.5\n",
      "      Third visit     38.2\n",
      "      Fourth visit    36.4\n",
      "      Fifth visit     34.5\n",
      "2018  First visit     37.8\n",
      "      Second visit    36.6\n",
      "      Third visit     39.8\n",
      "      Fourth visit    36.7\n",
      "      Fifth visit     36.3\n",
      "Name: (Sergey, Temp), dtype: float64\n",
      "Name                Leonid      \n",
      "Parameters       HR(Pulse)  Temp\n",
      "Year Visit                      \n",
      "2017 Third visit      40.0  37.8\n",
      "2018 Third visit      41.0  36.6\n",
      "2019 Third visit      45.0  35.5\n"
     ]
    }
   ],
   "source": [
    "# срезы\n",
    "print(a[:,2010]) #по Series\n",
    "print(a[a>17])\n",
    "print(a['Leonid':'Sergey'])\n",
    "print('________')\n",
    "print(health_stat['Sergey','Temp']) #по DataFrame\n",
    "print(health_stat.iloc[:2:,:])\n",
    "print('________')\n",
    "print(health_stat.loc[2017:2018, ('Sergey','Temp')])\n",
    "index_slice = pd.IndexSlice\n",
    "print(health_stat.loc[index_slice[:, 'Third visit'], index_slice['Leonid',:]])"
   ]
  },
  {
   "cell_type": "code",
   "execution_count": 11,
   "metadata": {},
   "outputs": [
    {
     "name": "stdout",
     "output_type": "stream",
     "text": [
      "b  3    0.950853\n",
      "   1    0.676158\n",
      "   2    0.128539\n",
      "a  3    0.147059\n",
      "   1    0.526841\n",
      "   2    0.973654\n",
      "c  3    0.358257\n",
      "   1    0.479523\n",
      "   2    0.997292\n",
      "dtype: float64\n",
      "'Key length (1) was greater than MultiIndex lexsort depth (0)'\n",
      "a  1    0.526841\n",
      "   2    0.973654\n",
      "   3    0.147059\n",
      "b  1    0.676158\n",
      "   2    0.128539\n",
      "   3    0.950853\n",
      "c  1    0.479523\n",
      "   2    0.997292\n",
      "   3    0.358257\n",
      "dtype: float64\n",
      "b  1    0.676158\n",
      "   2    0.128539\n",
      "   3    0.950853\n",
      "c  1    0.479523\n",
      "   2    0.997292\n",
      "   3    0.358257\n",
      "dtype: float64\n"
     ]
    }
   ],
   "source": [
    "# сортировка мультииндексов\n",
    "i_sort = pd.MultiIndex.from_product([['b', 'a', 'c'], [3, 1, 2]])\n",
    "s_sort = pd.Series(np.random.rand(9), index=i_sort)\n",
    "print(s_sort)\n",
    "try:\n",
    "    print(s_sort['b':'c'])\n",
    "except KeyError as error:\n",
    "    print(error)\n",
    "s_sort = s_sort.sort_index()\n",
    "print(s_sort)\n",
    "print(s_sort['b':'c'])"
   ]
  },
  {
   "cell_type": "code",
   "execution_count": 12,
   "metadata": {},
   "outputs": [
    {
     "name": "stdout",
     "output_type": "stream",
     "text": [
      "1  a    0.526841\n",
      "   b    0.676158\n",
      "   c    0.479523\n",
      "2  a    0.973654\n",
      "   b    0.128539\n",
      "   c    0.997292\n",
      "3  a    0.147059\n",
      "   b    0.950853\n",
      "   c    0.358257\n",
      "dtype: float64\n",
      "          a         b         c\n",
      "1  0.526841  0.676158  0.479523\n",
      "2  0.973654  0.128539  0.997292\n",
      "3  0.147059  0.950853  0.358257\n",
      "          1         2         3\n",
      "a  0.526841  0.973654  0.147059\n",
      "b  0.676158  0.128539  0.950853\n",
      "c  0.479523  0.997292  0.358257\n"
     ]
    }
   ],
   "source": [
    "# перегруппировка объектов по уровням\n",
    "print(s_sort.unstack(level=0).stack())\n",
    "print(s_sort.unstack(level=0))\n",
    "print(s_sort.unstack(level=1))"
   ]
  },
  {
   "cell_type": "code",
   "execution_count": 13,
   "metadata": {},
   "outputs": [
    {
     "name": "stdout",
     "output_type": "stream",
     "text": [
      "  level_0  level_1         0\n",
      "0       a        1  0.526841\n",
      "1       a        2  0.973654\n",
      "2       a        3  0.147059\n",
      "3       b        1  0.676158\n",
      "4       b        2  0.128539\n",
      "5       b        3  0.950853\n",
      "6       c        1  0.479523\n",
      "7       c        2  0.997292\n",
      "8       c        3  0.358257\n",
      "                        0\n",
      "level_0 level_1          \n",
      "a       1        0.526841\n",
      "        2        0.973654\n",
      "        3        0.147059\n",
      "b       1        0.676158\n",
      "        2        0.128539\n",
      "        3        0.950853\n",
      "c       1        0.479523\n",
      "        2        0.997292\n",
      "        3        0.358257\n"
     ]
    }
   ],
   "source": [
    "# создание и перестройка индексов\n",
    "s_sort_index = s_sort.reset_index()\n",
    "print(s_sort_index)\n",
    "s_sort_index = s_sort_index.set_index(['level_0','level_1'])\n",
    "print(s_sort_index)"
   ]
  },
  {
   "cell_type": "code",
   "execution_count": 14,
   "metadata": {},
   "outputs": [
    {
     "name": "stdout",
     "output_type": "stream",
     "text": [
      "Parameters  HR(Pulse)   Temp\n",
      "Year                        \n",
      "2017             38.4  37.08\n",
      "2018             33.4  37.20\n",
      "2019             31.2  37.50\n",
      "________________\n",
      "Parameters    HR(Pulse)       Temp\n",
      "Visit                             \n",
      "First visit   49.333333  37.800000\n",
      "Second visit  47.333333  36.600000\n",
      "Third visit   45.666667  38.333333\n",
      "Fourth visit  36.000000  36.466667\n",
      "Fifth visit   39.333333  36.233333\n",
      "________________\n",
      "Year  Visit       \n",
      "2017  First visit     42.25\n",
      "      Second visit    42.50\n",
      "      Third visit     35.75\n",
      "      Fourth visit    36.00\n",
      "      Fifth visit     40.25\n",
      "2018  First visit     25.00\n",
      "      Second visit    46.75\n",
      "      Third visit     37.75\n",
      "      Fourth visit    41.75\n",
      "      Fifth visit     32.25\n",
      "2019  First visit     40.50\n",
      "      Second visit    44.75\n",
      "      Third visit     36.75\n",
      "      Fourth visit    30.50\n",
      "      Fifth visit     39.50\n",
      "Name: HR(Pulse), dtype: float64\n"
     ]
    }
   ],
   "source": [
    "# агрегирование данных DataFrame\n",
    "health_mean_1 = health_stat.mean(level='Year')\n",
    "health_mean_2 = health_stat.mean(level='Visit')\n",
    "health_mean_3 = health_stat.mean(axis=1, level='Parameters')\n",
    "print(health_mean_1['Artyom'])\n",
    "print('________________')\n",
    "print(health_mean_2['Sergey'])\n",
    "print('________________')\n",
    "print(health_mean_3['HR(Pulse)'])\n"
   ]
  },
  {
   "cell_type": "code",
   "execution_count": null,
   "metadata": {},
   "outputs": [],
   "source": []
  },
  {
   "cell_type": "code",
   "execution_count": null,
   "metadata": {},
   "outputs": [],
   "source": []
  }
 ],
 "metadata": {
  "kernelspec": {
   "display_name": "Python 3",
   "language": "python",
   "name": "python3"
  },
  "language_info": {
   "codemirror_mode": {
    "name": "ipython",
    "version": 3
   },
   "file_extension": ".py",
   "mimetype": "text/x-python",
   "name": "python",
   "nbconvert_exporter": "python",
   "pygments_lexer": "ipython3",
   "version": "3.7.3"
  }
 },
 "nbformat": 4,
 "nbformat_minor": 2
}
