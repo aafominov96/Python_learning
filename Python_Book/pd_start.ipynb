{
 "cells": [
  {
   "cell_type": "code",
   "execution_count": 2,
   "metadata": {},
   "outputs": [],
   "source": [
    "import numpy as np\n",
    "import pandas as pd"
   ]
  },
  {
   "cell_type": "code",
   "execution_count": 3,
   "metadata": {},
   "outputs": [
    {
     "name": "stdout",
     "output_type": "stream",
     "text": [
      "0    0.0\n",
      "1    0.1\n",
      "2    0.2\n",
      "3    0.3\n",
      "4    0.4\n",
      "dtype: float64\n",
      "[0.  0.1 0.2 0.3 0.4]\n",
      "RangeIndex(start=0, stop=5, step=1)\n",
      "0.1\n",
      "0    0.0\n",
      "2    0.2\n",
      "4    0.4\n",
      "dtype: float64\n"
     ]
    }
   ],
   "source": [
    "data = pd.Series([a/10 for a in range(5)])\n",
    "print(data)\n",
    "print(data.values)\n",
    "print(data.index)\n",
    "print(data[1])\n",
    "print(data[0:5:2])"
   ]
  },
  {
   "cell_type": "code",
   "execution_count": 4,
   "metadata": {},
   "outputs": [
    {
     "name": "stdout",
     "output_type": "stream",
     "text": [
      "a    0.25\n",
      "b    1.00\n",
      "c    1.50\n",
      "d    2.34\n",
      "dtype: float64\n",
      "1.0\n",
      "1.0\n",
      "6    0\n",
      "2    1\n",
      "0    2\n",
      "dtype: int64\n",
      "2\n"
     ]
    }
   ],
   "source": [
    "data_index_1 = pd.Series([0.25, 1, 1.5, 2.34], index = ['a', 'b', 'c', 'd'])\n",
    "print(data_index_1)\n",
    "print(data_index_1['b'])\n",
    "print(data_index_1[1])\n",
    "data_index_2 = pd.Series([0, 1, 2], index = [6, 2, 0])\n",
    "print(data_index_2)\n",
    "print(data_index_2[0])"
   ]
  },
  {
   "cell_type": "code",
   "execution_count": 5,
   "metadata": {},
   "outputs": [
    {
     "name": "stdout",
     "output_type": "stream",
     "text": [
      "Moscow              12197596\n",
      "St.Petersburg        5191690\n",
      "Novosibirsk          1567087\n",
      "Ekaterinburg         1428042\n",
      "Nizhnii Novgorod     1267760\n",
      "dtype: int64\n",
      "__________\n",
      "1428042\n",
      "Moscow              12197596\n",
      "Novosibirsk          1567087\n",
      "Nizhnii Novgorod     1267760\n",
      "dtype: int64\n",
      "__________\n",
      "St.Petersburg    5191690\n",
      "Novosibirsk      1567087\n",
      "Ekaterinburg     1428042\n",
      "dtype: int64\n"
     ]
    }
   ],
   "source": [
    "population_dict = {'Moscow': 12197596,\n",
    "                  'St.Petersburg': 5191690,\n",
    "                  'Novosibirsk': 1567087,\n",
    "                  'Ekaterinburg': 1428042,\n",
    "                  'Nizhnii Novgorod': 1267760}\n",
    "population = pd.Series(population_dict)\n",
    "print(population)\n",
    "print('__________')\n",
    "print(population['Ekaterinburg'])\n",
    "print(population[0::2])\n",
    "print('__________')\n",
    "print(population['St.Petersburg':'Ekaterinburg'])"
   ]
  },
  {
   "cell_type": "code",
   "execution_count": 6,
   "metadata": {},
   "outputs": [],
   "source": [
    "area_dict = {'Moscow': 2561,\n",
    "            'St.Petersburg': 1439,\n",
    "            'Novosibirsk': 502,\n",
    "            'Ekaterinburg': 468,\n",
    "            'Nizhnii Novgorod': 466}\n",
    "area = pd.Series(area_dict)"
   ]
  },
  {
   "cell_type": "code",
   "execution_count": 7,
   "metadata": {},
   "outputs": [
    {
     "name": "stdout",
     "output_type": "stream",
     "text": [
      "                  population  area\n",
      "Moscow              12197596  2561\n",
      "St.Petersburg        5191690  1439\n",
      "Novosibirsk          1567087   502\n",
      "Ekaterinburg         1428042   468\n",
      "Nizhnii Novgorod     1267760   466\n",
      "Index(['Moscow', 'St.Petersburg', 'Novosibirsk', 'Ekaterinburg',\n",
      "       'Nizhnii Novgorod'],\n",
      "      dtype='object')\n",
      "Index(['population', 'area'], dtype='object')\n",
      "Moscow              2561\n",
      "St.Petersburg       1439\n",
      "Novosibirsk          502\n",
      "Ekaterinburg         468\n",
      "Nizhnii Novgorod     466\n",
      "Name: area, dtype: int64\n"
     ]
    }
   ],
   "source": [
    "cities = pd.DataFrame({'population': population, 'area': area})\n",
    "print(cities)\n",
    "print(cities.index)\n",
    "print(cities.columns)\n",
    "print(cities['area'])"
   ]
  },
  {
   "cell_type": "code",
   "execution_count": 8,
   "metadata": {},
   "outputs": [
    {
     "name": "stdout",
     "output_type": "stream",
     "text": [
      "                  area\n",
      "Moscow            2561\n",
      "St.Petersburg     1439\n",
      "Novosibirsk        502\n",
      "Ekaterinburg       468\n",
      "Nizhnii Novgorod   466\n",
      "__________\n",
      "     Moscow  St.Petersburg  Novosibirsk  Ekaterinburg  Nizhnii Novgorod\n",
      "0  12197596        5191690      1567087       1428042           1267760\n",
      "1  12197596        5191690      1567087       1428042           1267760\n",
      "2  12197596        5191690      1567087       1428042           1267760\n"
     ]
    }
   ],
   "source": [
    "print(pd.DataFrame(area, columns = ['area']))\n",
    "print('__________')\n",
    "print(pd.DataFrame([population_dict], index = [0, 1, 2]))"
   ]
  },
  {
   "cell_type": "code",
   "execution_count": 9,
   "metadata": {},
   "outputs": [
    {
     "name": "stdout",
     "output_type": "stream",
     "text": [
      "    first    second     third\n",
      "0   0.000  0.000000       NaN\n",
      "1   2.132  0.029412       NaN\n",
      "2   4.264  0.058824       NaN\n",
      "3   6.396  0.088235       NaN\n",
      "4   8.528  0.117647       NaN\n",
      "5   0.000       NaN  0.000000\n",
      "6  17.132       NaN  0.043478\n",
      "7  34.264       NaN  0.086957\n",
      "8  51.396       NaN  0.130435\n",
      "9  68.528       NaN  0.173913\n"
     ]
    }
   ],
   "source": [
    "data_dict_1 = [{'first': i*2.132, 'second': i/34} for i in range(5)]\n",
    "data_dict_2 = [{'first': i*17.132, 'third': i/23} for i in range(5)]\n",
    "df_from_dict = pd.DataFrame(data_dict_1+data_dict_2)\n",
    "print(df_from_dict)"
   ]
  }
 ],
 "metadata": {
  "kernelspec": {
   "display_name": "Python 3",
   "language": "python",
   "name": "python3"
  },
  "language_info": {
   "codemirror_mode": {
    "name": "ipython",
    "version": 3
   },
   "file_extension": ".py",
   "mimetype": "text/x-python",
   "name": "python",
   "nbconvert_exporter": "python",
   "pygments_lexer": "ipython3",
   "version": "3.7.3"
  }
 },
 "nbformat": 4,
 "nbformat_minor": 2
}
