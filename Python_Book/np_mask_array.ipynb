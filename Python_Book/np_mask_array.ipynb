{
 "cells": [
  {
   "cell_type": "code",
   "execution_count": 1,
   "metadata": {},
   "outputs": [],
   "source": [
    "import numpy as np"
   ]
  },
  {
   "cell_type": "code",
   "execution_count": 22,
   "metadata": {},
   "outputs": [
    {
     "name": "stdout",
     "output_type": "stream",
     "text": [
      "[[0.65952374 0.01084419 0.61512001]\n",
      " [0.73756722 0.84040183 0.4718254 ]\n",
      " [0.4922295  0.10933006 0.6715669 ]]\n",
      "Отражение в булеву логику, условие x > 0.5: \n",
      "  [[ True False  True]\n",
      " [ True  True False]\n",
      " [False False  True]]\n",
      "Количество ненулевых элементов > 0.5:  5\n",
      "Количество ненулевых элементов > 0.5 с помощью суммирования в каждом столбце: \n",
      " [2 1 2]\n",
      "Имеются ли значения, превышающие 0.9?  False\n",
      "Все ли значения равны 0.5 по строкам?  [False False False]\n",
      "Количество значений в диапазона 0.4 - 0.6:  2\n"
     ]
    }
   ],
   "source": [
    "x = np.random.random(9).reshape(3,3)\n",
    "print(x)\n",
    "print('Отражение в булеву логику, условие x > 0.5: \\n ', x > 0.5)\n",
    "print('Количество ненулевых элементов > 0.5: ', np.count_nonzero(x > 0.5))\n",
    "print('Количество ненулевых элементов > 0.5 с помощью суммирования в каждом столбце: \\n', np.sum(x > 0.5, axis = 0))\n",
    "print('Имеются ли значения, превышающие 0.9? ', np.any(x > 0.9))\n",
    "print('Все ли значения равны 0.5 по строкам? ', np.all(x == 0.5, axis = 1))\n",
    "print('Количество значений в диапазона 0.4 - 0.6: ', np.sum((x > 0.4) & (x < 0.6)))"
   ]
  },
  {
   "cell_type": "code",
   "execution_count": 24,
   "metadata": {},
   "outputs": [
    {
     "name": "stdout",
     "output_type": "stream",
     "text": [
      "Вывод всех элементов > 0.5:  [0.65952374 0.61512001 0.73756722 0.84040183 0.6715669 ]\n",
      "Вывод всех элементов > 0.33 с помощью создания маски:  [0.65952374 0.61512001 0.73756722 0.84040183 0.4718254  0.4922295\n",
      " 0.6715669 ]\n"
     ]
    }
   ],
   "source": [
    "# Применение маски на основной массив\n",
    "print('Вывод всех элементов > 0.5: ', x[x > 0.5])\n",
    "mask = x > 0.33 #создание маски\n",
    "print('Вывод всех элементов > 0.33 с помощью создания маски: ', x[mask])"
   ]
  },
  {
   "cell_type": "code",
   "execution_count": 73,
   "metadata": {},
   "outputs": [
    {
     "name": "stdout",
     "output_type": "stream",
     "text": [
      "True\n",
      "True\n",
      "---------\n",
      "0b1000001 0b101\n",
      "0b101\n",
      "a1 & a2 crashed\n",
      "---------\n",
      "66\n",
      "64\n",
      "---------\n",
      "40\n",
      "8\n",
      "___\n",
      "0b101100\n",
      "0b111011\n",
      "___\n",
      "0b111011\n",
      "0b101000\n",
      "-----------\n",
      "False\n",
      "True\n",
      "___\n",
      "False\n",
      "False\n",
      "-----------\n",
      "[1, 0, 3, 0]\n"
     ]
    }
   ],
   "source": [
    "a1 = bool(10)\n",
    "a2 = bool(5)\n",
    "print(a1 and a2)\n",
    "print(a1 & a2)\n",
    "print('---------')\n",
    "a1 = bin(65)\n",
    "a2 = bin(5)\n",
    "print(a1, a2)\n",
    "print(a1 and a2)\n",
    "try:\n",
    "    print(a1 & a2)\n",
    "except:\n",
    "    print('a1 & a2 crashed')\n",
    "print('---------')\n",
    "a1 = 65\n",
    "a2 = 66\n",
    "print(a1 and a2)\n",
    "print(a1 & a2)\n",
    "print('---------')\n",
    "print(30 and 40)\n",
    "print(30 & 40)\n",
    "print('___')\n",
    "print(bin(44))\n",
    "print(bin(59))\n",
    "print('___')\n",
    "print(bin(44 and 59))\n",
    "print(bin(44 & 59))\n",
    "print('-----------')\n",
    "print(bool(0))\n",
    "print(bool(59))\n",
    "print('___')\n",
    "print(bool(0 and 59))\n",
    "print(bool(0 & 59))\n",
    "print('-----------')\n",
    "a = [0, 2, 0, 6]\n",
    "b = [1, 0, 3, 0]\n",
    "print(a and b)"
   ]
  },
  {
   "cell_type": "code",
   "execution_count": null,
   "metadata": {},
   "outputs": [],
   "source": []
  }
 ],
 "metadata": {
  "kernelspec": {
   "display_name": "Python 3",
   "language": "python",
   "name": "python3"
  },
  "language_info": {
   "codemirror_mode": {
    "name": "ipython",
    "version": 3
   },
   "file_extension": ".py",
   "mimetype": "text/x-python",
   "name": "python",
   "nbconvert_exporter": "python",
   "pygments_lexer": "ipython3",
   "version": "3.7.3"
  }
 },
 "nbformat": 4,
 "nbformat_minor": 2
}
